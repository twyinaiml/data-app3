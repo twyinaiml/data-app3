{
 "cells": [
  {
   "cell_type": "markdown",
   "metadata": {},
   "source": [
    "# Practical Application III: Comparing Classifiers\n",
    "\n",
    "**Overview**: In this practical application, your goal is to compare the performance of the classifiers we encountered in this section, namely K Nearest Neighbor, Logistic Regression, Decision Trees, and Support Vector Machines.  We will utilize a dataset related to marketing bank products over the telephone.  \n",
    "\n"
   ]
  },
  {
   "cell_type": "markdown",
   "metadata": {},
   "source": [
    "### Getting Started\n",
    "\n",
    "Our dataset comes from the UCI Machine Learning repository [link](https://archive.ics.uci.edu/ml/datasets/bank+marketing).  The data is from a Portugese banking institution and is a collection of the results of multiple marketing campaigns.  We will make use of the article accompanying the dataset [here](CRISP-DM-BANK.pdf) for more information on the data and features.\n",
    "\n"
   ]
  },
  {
   "cell_type": "markdown",
   "metadata": {},
   "source": [
    "### Problem 1: Understanding the Data\n",
    "\n",
    "To gain a better understanding of the data, please read the information provided in the UCI link above, and examine the **Materials and Methods** section of the paper.  How many marketing campaigns does this data represent?"
   ]
  },
  {
   "cell_type": "markdown",
   "metadata": {},
   "source": [
    "This dataset is related to 17 campaigns that occurred between May 2008 and November 2010 from a Portuguese bank.\r\n",
    "\r\n",
    "During these phone campaigns, an attractive long-term deposit application, with good interest rate was offered and we would like to use machine learning techniques to find the best model and improve the campaign success rate."
   ]
  },
  {
   "cell_type": "markdown",
   "metadata": {},
   "source": [
    "### Problem 2: Read in the Data\n",
    "\n",
    "Use pandas to read in the dataset `bank-additional-full.csv` and assign to a meaningful variable name."
   ]
  },
  {
   "cell_type": "code",
   "execution_count": 1,
   "metadata": {},
   "outputs": [],
   "source": [
    "# import python libraries\n",
    "import numpy as np\n",
    "import pandas as pd\n",
    "import matplotlib.pyplot as plt\n",
    "import seaborn as sns\n",
    "\n",
    "from sklearn.tree import DecisionTreeClassifier\n",
    "from sklearn.neighbors import KNeighborsClassifier\n",
    "from sklearn.linear_model import LogisticRegression\n",
    "from sklearn.svm import SVC\n",
    "from sklearn.model_selection import train_test_split, GridSearchCV\n",
    "from sklearn.pipeline import Pipeline, make_pipeline\n",
    "from sklearn.preprocessing import StandardScaler, OneHotEncoder\n",
    "from sklearn.compose import make_column_transformer\n",
    "from sklearn import metrics\n",
    "from datetime import datetime"
   ]
  },
  {
   "cell_type": "code",
   "execution_count": 2,
   "metadata": {},
   "outputs": [],
   "source": [
    "# read the dataset into dataframe\n",
    "df = pd.read_csv('data/bank-additional-full.csv', sep = ';')"
   ]
  },
  {
   "cell_type": "code",
   "execution_count": 3,
   "metadata": {},
   "outputs": [
    {
     "data": {
      "text/html": [
       "<div>\n",
       "<style scoped>\n",
       "    .dataframe tbody tr th:only-of-type {\n",
       "        vertical-align: middle;\n",
       "    }\n",
       "\n",
       "    .dataframe tbody tr th {\n",
       "        vertical-align: top;\n",
       "    }\n",
       "\n",
       "    .dataframe thead th {\n",
       "        text-align: right;\n",
       "    }\n",
       "</style>\n",
       "<table border=\"1\" class=\"dataframe\">\n",
       "  <thead>\n",
       "    <tr style=\"text-align: right;\">\n",
       "      <th></th>\n",
       "      <th>age</th>\n",
       "      <th>job</th>\n",
       "      <th>marital</th>\n",
       "      <th>education</th>\n",
       "      <th>default</th>\n",
       "      <th>housing</th>\n",
       "      <th>loan</th>\n",
       "      <th>contact</th>\n",
       "      <th>month</th>\n",
       "      <th>day_of_week</th>\n",
       "      <th>...</th>\n",
       "      <th>campaign</th>\n",
       "      <th>pdays</th>\n",
       "      <th>previous</th>\n",
       "      <th>poutcome</th>\n",
       "      <th>emp.var.rate</th>\n",
       "      <th>cons.price.idx</th>\n",
       "      <th>cons.conf.idx</th>\n",
       "      <th>euribor3m</th>\n",
       "      <th>nr.employed</th>\n",
       "      <th>y</th>\n",
       "    </tr>\n",
       "  </thead>\n",
       "  <tbody>\n",
       "    <tr>\n",
       "      <th>0</th>\n",
       "      <td>56</td>\n",
       "      <td>housemaid</td>\n",
       "      <td>married</td>\n",
       "      <td>basic.4y</td>\n",
       "      <td>no</td>\n",
       "      <td>no</td>\n",
       "      <td>no</td>\n",
       "      <td>telephone</td>\n",
       "      <td>may</td>\n",
       "      <td>mon</td>\n",
       "      <td>...</td>\n",
       "      <td>1</td>\n",
       "      <td>999</td>\n",
       "      <td>0</td>\n",
       "      <td>nonexistent</td>\n",
       "      <td>1.1</td>\n",
       "      <td>93.994</td>\n",
       "      <td>-36.4</td>\n",
       "      <td>4.857</td>\n",
       "      <td>5191.0</td>\n",
       "      <td>no</td>\n",
       "    </tr>\n",
       "    <tr>\n",
       "      <th>1</th>\n",
       "      <td>57</td>\n",
       "      <td>services</td>\n",
       "      <td>married</td>\n",
       "      <td>high.school</td>\n",
       "      <td>unknown</td>\n",
       "      <td>no</td>\n",
       "      <td>no</td>\n",
       "      <td>telephone</td>\n",
       "      <td>may</td>\n",
       "      <td>mon</td>\n",
       "      <td>...</td>\n",
       "      <td>1</td>\n",
       "      <td>999</td>\n",
       "      <td>0</td>\n",
       "      <td>nonexistent</td>\n",
       "      <td>1.1</td>\n",
       "      <td>93.994</td>\n",
       "      <td>-36.4</td>\n",
       "      <td>4.857</td>\n",
       "      <td>5191.0</td>\n",
       "      <td>no</td>\n",
       "    </tr>\n",
       "    <tr>\n",
       "      <th>2</th>\n",
       "      <td>37</td>\n",
       "      <td>services</td>\n",
       "      <td>married</td>\n",
       "      <td>high.school</td>\n",
       "      <td>no</td>\n",
       "      <td>yes</td>\n",
       "      <td>no</td>\n",
       "      <td>telephone</td>\n",
       "      <td>may</td>\n",
       "      <td>mon</td>\n",
       "      <td>...</td>\n",
       "      <td>1</td>\n",
       "      <td>999</td>\n",
       "      <td>0</td>\n",
       "      <td>nonexistent</td>\n",
       "      <td>1.1</td>\n",
       "      <td>93.994</td>\n",
       "      <td>-36.4</td>\n",
       "      <td>4.857</td>\n",
       "      <td>5191.0</td>\n",
       "      <td>no</td>\n",
       "    </tr>\n",
       "    <tr>\n",
       "      <th>3</th>\n",
       "      <td>40</td>\n",
       "      <td>admin.</td>\n",
       "      <td>married</td>\n",
       "      <td>basic.6y</td>\n",
       "      <td>no</td>\n",
       "      <td>no</td>\n",
       "      <td>no</td>\n",
       "      <td>telephone</td>\n",
       "      <td>may</td>\n",
       "      <td>mon</td>\n",
       "      <td>...</td>\n",
       "      <td>1</td>\n",
       "      <td>999</td>\n",
       "      <td>0</td>\n",
       "      <td>nonexistent</td>\n",
       "      <td>1.1</td>\n",
       "      <td>93.994</td>\n",
       "      <td>-36.4</td>\n",
       "      <td>4.857</td>\n",
       "      <td>5191.0</td>\n",
       "      <td>no</td>\n",
       "    </tr>\n",
       "    <tr>\n",
       "      <th>4</th>\n",
       "      <td>56</td>\n",
       "      <td>services</td>\n",
       "      <td>married</td>\n",
       "      <td>high.school</td>\n",
       "      <td>no</td>\n",
       "      <td>no</td>\n",
       "      <td>yes</td>\n",
       "      <td>telephone</td>\n",
       "      <td>may</td>\n",
       "      <td>mon</td>\n",
       "      <td>...</td>\n",
       "      <td>1</td>\n",
       "      <td>999</td>\n",
       "      <td>0</td>\n",
       "      <td>nonexistent</td>\n",
       "      <td>1.1</td>\n",
       "      <td>93.994</td>\n",
       "      <td>-36.4</td>\n",
       "      <td>4.857</td>\n",
       "      <td>5191.0</td>\n",
       "      <td>no</td>\n",
       "    </tr>\n",
       "  </tbody>\n",
       "</table>\n",
       "<p>5 rows × 21 columns</p>\n",
       "</div>"
      ],
      "text/plain": [
       "   age        job  marital    education  default housing loan    contact  \\\n",
       "0   56  housemaid  married     basic.4y       no      no   no  telephone   \n",
       "1   57   services  married  high.school  unknown      no   no  telephone   \n",
       "2   37   services  married  high.school       no     yes   no  telephone   \n",
       "3   40     admin.  married     basic.6y       no      no   no  telephone   \n",
       "4   56   services  married  high.school       no      no  yes  telephone   \n",
       "\n",
       "  month day_of_week  ...  campaign  pdays  previous     poutcome emp.var.rate  \\\n",
       "0   may         mon  ...         1    999         0  nonexistent          1.1   \n",
       "1   may         mon  ...         1    999         0  nonexistent          1.1   \n",
       "2   may         mon  ...         1    999         0  nonexistent          1.1   \n",
       "3   may         mon  ...         1    999         0  nonexistent          1.1   \n",
       "4   may         mon  ...         1    999         0  nonexistent          1.1   \n",
       "\n",
       "   cons.price.idx  cons.conf.idx  euribor3m  nr.employed   y  \n",
       "0          93.994          -36.4      4.857       5191.0  no  \n",
       "1          93.994          -36.4      4.857       5191.0  no  \n",
       "2          93.994          -36.4      4.857       5191.0  no  \n",
       "3          93.994          -36.4      4.857       5191.0  no  \n",
       "4          93.994          -36.4      4.857       5191.0  no  \n",
       "\n",
       "[5 rows x 21 columns]"
      ]
     },
     "execution_count": 3,
     "metadata": {},
     "output_type": "execute_result"
    }
   ],
   "source": [
    "df.head()"
   ]
  },
  {
   "cell_type": "markdown",
   "metadata": {},
   "source": [
    "### Problem 3: Understanding the Features\n",
    "\n",
    "\n",
    "Examine the data description below, and determine if any of the features are missing values or need to be coerced to a different data type.\n",
    "\n",
    "\n",
    "```\n",
    "Input variables:\n",
    "# bank client data:\n",
    "1 - age (numeric)\n",
    "2 - job : type of job (categorical: 'admin.','blue-collar','entrepreneur','housemaid','management','retired','self-employed','services','student','technician','unemployed','unknown')\n",
    "3 - marital : marital status (categorical: 'divorced','married','single','unknown'; note: 'divorced' means divorced or widowed)\n",
    "4 - education (categorical: 'basic.4y','basic.6y','basic.9y','high.school','illiterate','professional.course','university.degree','unknown')\n",
    "5 - default: has credit in default? (categorical: 'no','yes','unknown')\n",
    "6 - housing: has housing loan? (categorical: 'no','yes','unknown')\n",
    "7 - loan: has personal loan? (categorical: 'no','yes','unknown')\n",
    "# related with the last contact of the current campaign:\n",
    "8 - contact: contact communication type (categorical: 'cellular','telephone')\n",
    "9 - month: last contact month of year (categorical: 'jan', 'feb', 'mar', ..., 'nov', 'dec')\n",
    "10 - day_of_week: last contact day of the week (categorical: 'mon','tue','wed','thu','fri')\n",
    "11 - duration: last contact duration, in seconds (numeric). Important note: this attribute highly affects the output target (e.g., if duration=0 then y='no'). Yet, the duration is not known before a call is performed. Also, after the end of the call y is obviously known. Thus, this input should only be included for benchmark purposes and should be discarded if the intention is to have a realistic predictive model.\n",
    "# other attributes:\n",
    "12 - campaign: number of contacts performed during this campaign and for this client (numeric, includes last contact)\n",
    "13 - pdays: number of days that passed by after the client was last contacted from a previous campaign (numeric; 999 means client was not previously contacted)\n",
    "14 - previous: number of contacts performed before this campaign and for this client (numeric)\n",
    "15 - poutcome: outcome of the previous marketing campaign (categorical: 'failure','nonexistent','success')\n",
    "# social and economic context attributes\n",
    "16 - emp.var.rate: employment variation rate - quarterly indicator (numeric)\n",
    "17 - cons.price.idx: consumer price index - monthly indicator (numeric)\n",
    "18 - cons.conf.idx: consumer confidence index - monthly indicator (numeric)\n",
    "19 - euribor3m: euribor 3 month rate - daily indicator (numeric)\n",
    "20 - nr.employed: number of employees - quarterly indicator (numeric)\n",
    "\n",
    "Output variable (desired target):\n",
    "21 - y - has the client subscribed a term deposit? (binary: 'yes','no')\n",
    "```\n",
    "\n"
   ]
  },
  {
   "cell_type": "code",
   "execution_count": 4,
   "metadata": {},
   "outputs": [
    {
     "name": "stdout",
     "output_type": "stream",
     "text": [
      "Before data cleanup, unknown value count = 12718\n"
     ]
    },
    {
     "data": {
      "text/html": [
       "<div>\n",
       "<style scoped>\n",
       "    .dataframe tbody tr th:only-of-type {\n",
       "        vertical-align: middle;\n",
       "    }\n",
       "\n",
       "    .dataframe tbody tr th {\n",
       "        vertical-align: top;\n",
       "    }\n",
       "\n",
       "    .dataframe thead th {\n",
       "        text-align: right;\n",
       "    }\n",
       "</style>\n",
       "<table border=\"1\" class=\"dataframe\">\n",
       "  <thead>\n",
       "    <tr style=\"text-align: right;\">\n",
       "      <th></th>\n",
       "      <th>index</th>\n",
       "      <th>count</th>\n",
       "    </tr>\n",
       "  </thead>\n",
       "  <tbody>\n",
       "    <tr>\n",
       "      <th>4</th>\n",
       "      <td>default</td>\n",
       "      <td>8597</td>\n",
       "    </tr>\n",
       "    <tr>\n",
       "      <th>3</th>\n",
       "      <td>education</td>\n",
       "      <td>1731</td>\n",
       "    </tr>\n",
       "    <tr>\n",
       "      <th>5</th>\n",
       "      <td>housing</td>\n",
       "      <td>990</td>\n",
       "    </tr>\n",
       "    <tr>\n",
       "      <th>6</th>\n",
       "      <td>loan</td>\n",
       "      <td>990</td>\n",
       "    </tr>\n",
       "    <tr>\n",
       "      <th>1</th>\n",
       "      <td>job</td>\n",
       "      <td>330</td>\n",
       "    </tr>\n",
       "    <tr>\n",
       "      <th>2</th>\n",
       "      <td>marital</td>\n",
       "      <td>80</td>\n",
       "    </tr>\n",
       "  </tbody>\n",
       "</table>\n",
       "</div>"
      ],
      "text/plain": [
       "       index  count\n",
       "4    default   8597\n",
       "3  education   1731\n",
       "5    housing    990\n",
       "6       loan    990\n",
       "1        job    330\n",
       "2    marital     80"
      ]
     },
     "execution_count": 4,
     "metadata": {},
     "output_type": "execute_result"
    }
   ],
   "source": [
    "# data cleanup\n",
    "# check all the unknown strings in the dataset\n",
    "dfunkn = (df == 'unknown').sum()\n",
    "dfu = pd.DataFrame(dfunkn, columns=['count']).reset_index()\n",
    "dfu = dfu.query('count > 0').sort_values(by='count', ascending=False)\n",
    "print('Before data cleanup, unknown value count =', dfu['count'].sum())\n",
    "dfu"
   ]
  },
  {
   "cell_type": "code",
   "execution_count": 5,
   "metadata": {},
   "outputs": [
    {
     "data": {
      "text/plain": [
       "Text(0.5, 1.0, 'Unknown string count in the dataset')"
      ]
     },
     "execution_count": 5,
     "metadata": {},
     "output_type": "execute_result"
    },
    {
     "data": {
      "image/png": "[encoded data removed]",
      "text/plain": [
       "<Figure size 640x480 with 1 Axes>"
      ]
     },
     "metadata": {},
     "output_type": "display_data"
    }
   ],
   "source": [
    "# display unknown strings in the dataset\n",
    "sns.barplot(dfu.query('count > 0'), y='index', x='count')\n",
    "plt.ylabel('feature')\n",
    "plt.xlabel('unknown string count')\n",
    "plt.title('Unknown string count in the dataset')"
   ]
  },
  {
   "cell_type": "code",
   "execution_count": 6,
   "metadata": {},
   "outputs": [
    {
     "name": "stdout",
     "output_type": "stream",
     "text": [
      "After data cleanup, unknown value count = 0\n"
     ]
    }
   ],
   "source": [
    "# clean up the dataset by dropping unknown strings\n",
    "dfX = df[(df != 'unknown')].dropna()\n",
    "dfuncnt = (dfX == 'unknown').sum()\n",
    "print('After data cleanup, unknown value count =', dfuncnt.sum())"
   ]
  },
  {
   "cell_type": "markdown",
   "metadata": {},
   "source": [
    "### Problem 4: Understanding the Task\n",
    "\n",
    "After examining the description and data, your goal now is to clearly state the *Business Objective* of the task.  State the objective below."
   ]
  },
  {
   "cell_type": "markdown",
   "metadata": {},
   "source": [
    "Our business goal is to compare different classifiers, find the best classification model and predict what drives customers to buy the bank products."
   ]
  },
  {
   "cell_type": "markdown",
   "metadata": {},
   "source": [
    "### Problem 5: Engineering Features\n",
    "\n",
    "Now that you understand your business objective, we will build a basic model to get started.  Before we can do this, we must work to encode the data.  Using just the bank information features, prepare the features and target column for modeling with appropriate encoding and transformations."
   ]
  },
  {
   "cell_type": "code",
   "execution_count": 7,
   "metadata": {},
   "outputs": [
    {
     "name": "stdout",
     "output_type": "stream",
     "text": [
      "<class 'pandas.core.frame.DataFrame'>\n",
      "Index: 30488 entries, 0 to 41187\n",
      "Data columns (total 21 columns):\n",
      " #   Column          Non-Null Count  Dtype  \n",
      "---  ------          --------------  -----  \n",
      " 0   age             30488 non-null  int64  \n",
      " 1   job             30488 non-null  object \n",
      " 2   marital         30488 non-null  object \n",
      " 3   education       30488 non-null  object \n",
      " 4   default         30488 non-null  object \n",
      " 5   housing         30488 non-null  object \n",
      " 6   loan            30488 non-null  object \n",
      " 7   contact         30488 non-null  object \n",
      " 8   month           30488 non-null  object \n",
      " 9   day_of_week     30488 non-null  object \n",
      " 10  duration        30488 non-null  int64  \n",
      " 11  campaign        30488 non-null  int64  \n",
      " 12  pdays           30488 non-null  int64  \n",
      " 13  previous        30488 non-null  int64  \n",
      " 14  poutcome        30488 non-null  object \n",
      " 15  emp.var.rate    30488 non-null  float64\n",
      " 16  cons.price.idx  30488 non-null  float64\n",
      " 17  cons.conf.idx   30488 non-null  float64\n",
      " 18  euribor3m       30488 non-null  float64\n",
      " 19  nr.employed     30488 non-null  float64\n",
      " 20  y               30488 non-null  object \n",
      "dtypes: float64(5), int64(5), object(11)\n",
      "memory usage: 5.1+ MB\n",
      "None\n"
     ]
    },
    {
     "data": {
      "text/html": [
       "<div>\n",
       "<style scoped>\n",
       "    .dataframe tbody tr th:only-of-type {\n",
       "        vertical-align: middle;\n",
       "    }\n",
       "\n",
       "    .dataframe tbody tr th {\n",
       "        vertical-align: top;\n",
       "    }\n",
       "\n",
       "    .dataframe thead th {\n",
       "        text-align: right;\n",
       "    }\n",
       "</style>\n",
       "<table border=\"1\" class=\"dataframe\">\n",
       "  <thead>\n",
       "    <tr style=\"text-align: right;\">\n",
       "      <th></th>\n",
       "      <th>age</th>\n",
       "      <th>duration</th>\n",
       "      <th>campaign</th>\n",
       "      <th>pdays</th>\n",
       "      <th>previous</th>\n",
       "      <th>emp.var.rate</th>\n",
       "      <th>cons.price.idx</th>\n",
       "      <th>cons.conf.idx</th>\n",
       "      <th>euribor3m</th>\n",
       "      <th>nr.employed</th>\n",
       "    </tr>\n",
       "  </thead>\n",
       "  <tbody>\n",
       "    <tr>\n",
       "      <th>count</th>\n",
       "      <td>30488.000000</td>\n",
       "      <td>30488.000000</td>\n",
       "      <td>30488.000000</td>\n",
       "      <td>30488.000000</td>\n",
       "      <td>30488.000000</td>\n",
       "      <td>30488.000000</td>\n",
       "      <td>30488.000000</td>\n",
       "      <td>30488.000000</td>\n",
       "      <td>30488.000000</td>\n",
       "      <td>30488.000000</td>\n",
       "    </tr>\n",
       "    <tr>\n",
       "      <th>mean</th>\n",
       "      <td>39.030012</td>\n",
       "      <td>259.484092</td>\n",
       "      <td>2.521451</td>\n",
       "      <td>956.332295</td>\n",
       "      <td>0.194273</td>\n",
       "      <td>-0.071510</td>\n",
       "      <td>93.523311</td>\n",
       "      <td>-40.602263</td>\n",
       "      <td>3.459938</td>\n",
       "      <td>5160.813409</td>\n",
       "    </tr>\n",
       "    <tr>\n",
       "      <th>std</th>\n",
       "      <td>10.333529</td>\n",
       "      <td>261.714262</td>\n",
       "      <td>2.720150</td>\n",
       "      <td>201.373292</td>\n",
       "      <td>0.522788</td>\n",
       "      <td>1.610399</td>\n",
       "      <td>0.585374</td>\n",
       "      <td>4.789249</td>\n",
       "      <td>1.777231</td>\n",
       "      <td>75.158065</td>\n",
       "    </tr>\n",
       "    <tr>\n",
       "      <th>min</th>\n",
       "      <td>17.000000</td>\n",
       "      <td>0.000000</td>\n",
       "      <td>1.000000</td>\n",
       "      <td>0.000000</td>\n",
       "      <td>0.000000</td>\n",
       "      <td>-3.400000</td>\n",
       "      <td>92.201000</td>\n",
       "      <td>-50.800000</td>\n",
       "      <td>0.634000</td>\n",
       "      <td>4963.600000</td>\n",
       "    </tr>\n",
       "    <tr>\n",
       "      <th>25%</th>\n",
       "      <td>31.000000</td>\n",
       "      <td>103.000000</td>\n",
       "      <td>1.000000</td>\n",
       "      <td>999.000000</td>\n",
       "      <td>0.000000</td>\n",
       "      <td>-1.800000</td>\n",
       "      <td>93.075000</td>\n",
       "      <td>-42.700000</td>\n",
       "      <td>1.313000</td>\n",
       "      <td>5099.100000</td>\n",
       "    </tr>\n",
       "    <tr>\n",
       "      <th>50%</th>\n",
       "      <td>37.000000</td>\n",
       "      <td>181.000000</td>\n",
       "      <td>2.000000</td>\n",
       "      <td>999.000000</td>\n",
       "      <td>0.000000</td>\n",
       "      <td>1.100000</td>\n",
       "      <td>93.444000</td>\n",
       "      <td>-41.800000</td>\n",
       "      <td>4.856000</td>\n",
       "      <td>5191.000000</td>\n",
       "    </tr>\n",
       "    <tr>\n",
       "      <th>75%</th>\n",
       "      <td>45.000000</td>\n",
       "      <td>321.000000</td>\n",
       "      <td>3.000000</td>\n",
       "      <td>999.000000</td>\n",
       "      <td>0.000000</td>\n",
       "      <td>1.400000</td>\n",
       "      <td>93.994000</td>\n",
       "      <td>-36.400000</td>\n",
       "      <td>4.961000</td>\n",
       "      <td>5228.100000</td>\n",
       "    </tr>\n",
       "    <tr>\n",
       "      <th>max</th>\n",
       "      <td>95.000000</td>\n",
       "      <td>4918.000000</td>\n",
       "      <td>43.000000</td>\n",
       "      <td>999.000000</td>\n",
       "      <td>7.000000</td>\n",
       "      <td>1.400000</td>\n",
       "      <td>94.767000</td>\n",
       "      <td>-26.900000</td>\n",
       "      <td>5.045000</td>\n",
       "      <td>5228.100000</td>\n",
       "    </tr>\n",
       "  </tbody>\n",
       "</table>\n",
       "</div>"
      ],
      "text/plain": [
       "                age      duration      campaign         pdays      previous  \\\n",
       "count  30488.000000  30488.000000  30488.000000  30488.000000  30488.000000   \n",
       "mean      39.030012    259.484092      2.521451    956.332295      0.194273   \n",
       "std       10.333529    261.714262      2.720150    201.373292      0.522788   \n",
       "min       17.000000      0.000000      1.000000      0.000000      0.000000   \n",
       "25%       31.000000    103.000000      1.000000    999.000000      0.000000   \n",
       "50%       37.000000    181.000000      2.000000    999.000000      0.000000   \n",
       "75%       45.000000    321.000000      3.000000    999.000000      0.000000   \n",
       "max       95.000000   4918.000000     43.000000    999.000000      7.000000   \n",
       "\n",
       "       emp.var.rate  cons.price.idx  cons.conf.idx     euribor3m   nr.employed  \n",
       "count  30488.000000    30488.000000   30488.000000  30488.000000  30488.000000  \n",
       "mean      -0.071510       93.523311     -40.602263      3.459938   5160.813409  \n",
       "std        1.610399        0.585374       4.789249      1.777231     75.158065  \n",
       "min       -3.400000       92.201000     -50.800000      0.634000   4963.600000  \n",
       "25%       -1.800000       93.075000     -42.700000      1.313000   5099.100000  \n",
       "50%        1.100000       93.444000     -41.800000      4.856000   5191.000000  \n",
       "75%        1.400000       93.994000     -36.400000      4.961000   5228.100000  \n",
       "max        1.400000       94.767000     -26.900000      5.045000   5228.100000  "
      ]
     },
     "execution_count": 7,
     "metadata": {},
     "output_type": "execute_result"
    }
   ],
   "source": [
    "# display dataset info\n",
    "print(dfX.info())\n",
    "dfX.describe()"
   ]
  },
  {
   "cell_type": "code",
   "execution_count": 8,
   "metadata": {},
   "outputs": [],
   "source": [
    "# seperate dataset into features and the target variabl\n",
    "import warnings\n",
    "warnings.simplefilter('ignore', FutureWarning)\n",
    "\n",
    "X = dfX.drop(columns=['y'])\n",
    "y = dfX['y'].map({'no':0, 'yes':1})\n"
   ]
  },
  {
   "cell_type": "code",
   "execution_count": 9,
   "metadata": {},
   "outputs": [
    {
     "data": {
      "text/plain": [
       "Text(0.5, 1.0, 'Histogram of target variable distribution')"
      ]
     },
     "execution_count": 9,
     "metadata": {},
     "output_type": "execute_result"
    },
    {
     "data": {
      "image/png": "[encoded data removed]",
      "text/plain": [
       "<Figure size 640x480 with 1 Axes>"
      ]
     },
     "metadata": {},
     "output_type": "display_data"
    }
   ],
   "source": [
    "# show the target variable distribution\n",
    "sns.histplot(df, x='y')\n",
    "plt.title('Histogram of target variable distribution')"
   ]
  },
  {
   "cell_type": "code",
   "execution_count": 10,
   "metadata": {},
   "outputs": [
    {
     "data": {
      "text/plain": [
       "Text(0.5, 1.0, 'Histogram of data distribution by month')"
      ]
     },
     "execution_count": 10,
     "metadata": {},
     "output_type": "execute_result"
    },
    {
     "data": {
      "image/png": "[encoded data removed]",
      "text/plain": [
       "<Figure size 640x480 with 1 Axes>"
      ]
     },
     "metadata": {},
     "output_type": "display_data"
    }
   ],
   "source": [
    "# show the data distribution by month\n",
    "sns.histplot(df, x='month', hue='y')\n",
    "plt.title('Histogram of data distribution by month')"
   ]
  },
  {
   "cell_type": "code",
   "execution_count": 11,
   "metadata": {},
   "outputs": [
    {
     "name": "stdout",
     "output_type": "stream",
     "text": [
      "ColumnTransformer(remainder=StandardScaler(),\n",
      "                  transformers=[('onehotencoder',\n",
      "                                 OneHotEncoder(drop='if_binary'),\n",
      "                                 ['default', 'job', 'education', 'contact',\n",
      "                                  'housing', 'loan', 'marital', 'month',\n",
      "                                  'day_of_week', 'poutcome'])])\n"
     ]
    }
   ],
   "source": [
    "# build a column transformer to encode catogorical data and scale numerical data\n",
    "from sklearn.preprocessing import FunctionTransformer\n",
    "from sklearn.decomposition import PCA\n",
    "\n",
    "ctxfmr = make_column_transformer(\n",
    "    (OneHotEncoder(drop='if_binary'), ['default','job','education','contact','housing','loan','marital','month','day_of_week','poutcome']), \n",
    "    remainder=StandardScaler())\n",
    "print(ctxfmr)\n"
   ]
  },
  {
   "cell_type": "markdown",
   "metadata": {},
   "source": [
    "### Problem 6: Train/Test Split\n",
    "\n",
    "With your data prepared, split it into a train and test set."
   ]
  },
  {
   "cell_type": "code",
   "execution_count": 12,
   "metadata": {},
   "outputs": [
    {
     "name": "stdout",
     "output_type": "stream",
     "text": [
      "The training set shape = (21341, 20)\n",
      "The testing set shape = (9147, 20)\n"
     ]
    }
   ],
   "source": [
    "X_train, X_test, y_train, y_test = train_test_split(X, y, random_state=42, test_size=0.3)\n",
    "print('The training set shape =', X_train.shape)\n",
    "print('The testing set shape =', X_test.shape)"
   ]
  },
  {
   "cell_type": "markdown",
   "metadata": {},
   "source": [
    "### Problem 7: A Baseline Model\n",
    "\n",
    "Before we build our first model, we want to establish a baseline.  What is the baseline performance that our classifier should aim to beat?"
   ]
  },
  {
   "cell_type": "code",
   "execution_count": 13,
   "metadata": {},
   "outputs": [
    {
     "name": "stdout",
     "output_type": "stream",
     "text": [
      "Baseline dummy classifier model\n",
      "train accuracy = 0.874138981303594\n",
      "test accuracy = 0.8717612331912102\n",
      "F1 score = 0.0\n",
      "The baseline dummy classifier model just randomly guess so its F1 score = 0 even though its accuracy is 87%.\n"
     ]
    }
   ],
   "source": [
    "# build a dummy classifier as our baseline\n",
    "from sklearn.dummy import DummyClassifier\n",
    "\n",
    "baseline = DummyClassifier(strategy='most_frequent')\n",
    "baseline.fit(X_train, y_train)\n",
    "train_score = baseline.score(X_train, y_train)\n",
    "print('Baseline dummy classifier model')\n",
    "print('train accuracy =', train_score)\n",
    "test_score = baseline.score(X_test, y_test)\n",
    "print('test accuracy =', test_score)\n",
    "f1_score = metrics.f1_score(y_test, baseline.predict(X_test))\n",
    "print('F1 score =', f1_score)\n",
    "print('The baseline dummy classifier model just randomly guess so its F1 score = 0 even though its accuracy is 87%.')"
   ]
  },
  {
   "cell_type": "markdown",
   "metadata": {},
   "source": [
    "### Problem 8: A Simple Model\n",
    "\n",
    "Use Logistic Regression to build a basic model on your data.  "
   ]
  },
  {
   "cell_type": "code",
   "execution_count": 14,
   "metadata": {},
   "outputs": [],
   "source": [
    "# initialize the table\n",
    "models = ['LogisticRegression', 'KNN', 'DecisionTree', 'SVC']\n",
    "train_time = []\n",
    "train_scores = []\n",
    "test_scores = []\n",
    "f1_scores = []"
   ]
  },
  {
   "cell_type": "code",
   "execution_count": 15,
   "metadata": {},
   "outputs": [
    {
     "name": "stdout",
     "output_type": "stream",
     "text": [
      "LogisticRegression\n",
      "train time = 0.715013 secs\n",
      "train accuracy = 0.9004264092591725\n",
      "test accuracy = 0.9007324805947305\n",
      "F1 score = 0.5270833333333333\n",
      "CPU times: total: 609 ms\n",
      "Wall time: 872 ms\n"
     ]
    }
   ],
   "source": [
    "%%time\n",
    "# LogosticRegression basic model\n",
    "pipe_lgr = Pipeline([\n",
    "    ('txfmr', ctxfmr),\n",
    "    ('lgr', LogisticRegression(max_iter=500))])\n",
    "time1 = datetime.now() \n",
    "pipe_lgr.fit(X_train, y_train)\n",
    "duration = (datetime.now() - time1)\n",
    "print('LogisticRegression')\n",
    "print('train time =', duration.total_seconds(), 'secs')\n",
    "train_score = pipe_lgr.score(X_train, y_train)\n",
    "print('train accuracy =', train_score)\n",
    "test_score = pipe_lgr.score(X_test, y_test)\n",
    "print('test accuracy =', test_score)\n",
    "f1_score = metrics.f1_score(y_test, pipe_lgr.predict(X_test))\n",
    "print('F1 score =', f1_score)\n",
    "train_time.append(duration.total_seconds())\n",
    "train_scores.append(train_score)\n",
    "test_scores.append(test_score)\n",
    "f1_scores.append(f1_score)\n",
    "#dflgr = pd.DataFrame({'feature':pipe_lgr.named_steps['txfmr'].get_feature_names_out(), 'coef':pipe_lgr.named_steps['lgr'].coef_[0]})\n",
    "#dflgr = dflgr.sort_values(by='coef', ascending=False)\n",
    "#dflgr"
   ]
  },
  {
   "cell_type": "code",
   "execution_count": 16,
   "metadata": {},
   "outputs": [
    {
     "name": "stdout",
     "output_type": "stream",
     "text": [
      "                      feature      coef\n",
      "30   onehotencoder__month_mar  1.805093\n",
      "49  remainder__cons.price.idx  1.241790\n",
      "44        remainder__duration  1.174272\n",
      "26   onehotencoder__month_aug  0.505798\n",
      "52     remainder__nr.employed  0.496712\n"
     ]
    },
    {
     "data": {
      "text/plain": [
       "Text(0.5, 1.0, 'Table of top 5 features')"
      ]
     },
     "execution_count": 16,
     "metadata": {},
     "output_type": "execute_result"
    },
    {
     "data": {
      "image/png": "[encoded data removed]",
      "text/plain": [
       "<Figure size 640x480 with 1 Axes>"
      ]
     },
     "metadata": {},
     "output_type": "display_data"
    }
   ],
   "source": [
    "# LogosticRegression basic model coefficients\n",
    "dflgr = pd.DataFrame({'feature':pipe_lgr.named_steps['txfmr'].get_feature_names_out(), 'coef':pipe_lgr.named_steps['lgr'].coef_[0]})\n",
    "dflgr = dflgr.sort_values(by='coef', ascending=False)\n",
    "#dflgr\n",
    "# data visualization\n",
    "top5 = dflgr.head(5)\n",
    "print(top5)\n",
    "sns.barplot(top5, y='feature', x='coef')\n",
    "plt.title('Table of top 5 features')"
   ]
  },
  {
   "cell_type": "code",
   "execution_count": 17,
   "metadata": {},
   "outputs": [
    {
     "name": "stdout",
     "output_type": "stream",
     "text": [
      "KNN\n",
      "train time = 0.100048 secs\n",
      "train accuracy = 0.922215453821283\n",
      "test accuracy = 0.887176123319121\n",
      "F1 score = 0.48605577689243024\n",
      "CPU times: total: 11.2 s\n",
      "Wall time: 4.37 s\n"
     ]
    }
   ],
   "source": [
    "%%time\n",
    "# KNearestNeighbors basic model\n",
    "pipe_knn = Pipeline([\n",
    "    ('txfmr', ctxfmr),\n",
    "    ('knn', KNeighborsClassifier())])\n",
    "time1 = datetime.now() \n",
    "pipe_knn.fit(X_train, y_train)\n",
    "duration = (datetime.now() - time1)\n",
    "print('KNN')\n",
    "print('train time =', duration.total_seconds(), 'secs')\n",
    "train_score = pipe_knn.score(X_train, y_train)\n",
    "print('train accuracy =', train_score)\n",
    "test_score = pipe_knn.score(X_test, y_test)\n",
    "print('test accuracy =', test_score)\n",
    "f1_score = metrics.f1_score(y_test, pipe_knn.predict(X_test))\n",
    "print('F1 score =', f1_score)\n",
    "train_time.append(duration.total_seconds())\n",
    "train_scores.append(train_score)\n",
    "test_scores.append(test_score)\n",
    "f1_scores.append(f1_score)"
   ]
  },
  {
   "cell_type": "code",
   "execution_count": 18,
   "metadata": {},
   "outputs": [
    {
     "name": "stdout",
     "output_type": "stream",
     "text": [
      "DecisionTree\n",
      "train time = 0.293789 secs\n",
      "train accuracy = 1.0\n",
      "test accuracy = 0.8765715535148136\n",
      "F1 score = 0.5205944798301486\n",
      "CPU times: total: 156 ms\n",
      "Wall time: 421 ms\n"
     ]
    }
   ],
   "source": [
    "%%time\n",
    "# DecisionTree basic model\n",
    "pipe_dtr = Pipeline([\n",
    "    ('txfmr', ctxfmr),\n",
    "    ('dtr', DecisionTreeClassifier())])\n",
    "time1 = datetime.now() \n",
    "pipe_dtr.fit(X_train, y_train)\n",
    "duration = (datetime.now() - time1)\n",
    "print('DecisionTree')\n",
    "print('train time =', duration.total_seconds(), 'secs')\n",
    "train_score = pipe_dtr.score(X_train, y_train)\n",
    "print('train accuracy =', train_score)\n",
    "test_score = pipe_dtr.score(X_test, y_test)\n",
    "print('test accuracy =', test_score)\n",
    "f1_score = metrics.f1_score(y_test, pipe_dtr.predict(X_test))\n",
    "print('F1 score =', f1_score)\n",
    "train_time.append(duration.total_seconds())\n",
    "train_scores.append(train_score)\n",
    "test_scores.append(test_score)\n",
    "f1_scores.append(f1_score)"
   ]
  },
  {
   "cell_type": "code",
   "execution_count": 19,
   "metadata": {},
   "outputs": [
    {
     "name": "stdout",
     "output_type": "stream",
     "text": [
      "SVC\n",
      "train time = 8.881908 secs\n",
      "train accuracy = 0.9163581837777048\n",
      "test accuracy = 0.90007652782333\n",
      "F1 score = 0.5117521367521368\n",
      "CPU times: total: 21.6 s\n",
      "Wall time: 31.5 s\n"
     ]
    }
   ],
   "source": [
    "%%time\n",
    "# SupportVectorMachine basic model\n",
    "pipe_svc = Pipeline([\n",
    "    ('txfmr', ctxfmr),\n",
    "    ('svc', SVC())])\n",
    "time1 = datetime.now() \n",
    "pipe_svc.fit(X_train, y_train)\n",
    "duration = (datetime.now() - time1)\n",
    "print('SVC')\n",
    "print('train time =', duration.total_seconds(), 'secs')\n",
    "train_score = pipe_svc.score(X_train, y_train)\n",
    "print('train accuracy =', train_score)\n",
    "test_score = pipe_svc.score(X_test, y_test)\n",
    "print('test accuracy =', test_score)\n",
    "f1_score = metrics.f1_score(y_test, pipe_svc.predict(X_test))\n",
    "print('F1 score =', f1_score)\n",
    "train_time.append(duration.total_seconds())\n",
    "train_scores.append(train_score)\n",
    "test_scores.append(test_score)\n",
    "f1_scores.append(f1_score)"
   ]
  },
  {
   "cell_type": "markdown",
   "metadata": {},
   "source": [
    "### Problem 9: Score the Model\n",
    "\n",
    "What is the accuracy of your model?"
   ]
  },
  {
   "cell_type": "markdown",
   "metadata": {},
   "source": [
    "The LogisticRegression basic model has the highest test accuracy 90% and the best F1 score."
   ]
  },
  {
   "cell_type": "markdown",
   "metadata": {},
   "source": [
    "### Problem 10: Model Comparisons\n",
    "\n",
    "Now, we aim to compare the performance of the Logistic Regression model to our KNN algorithm, Decision Tree, and SVM models.  Using the default settings for each of the models, fit and score each.  Also, be sure to compare the fit time of each of the models.  Present your findings in a `DataFrame` similar to that below:\n",
    "\n",
    "| Model | Train Time | Train Accuracy | Test Accuracy |\n",
    "| ----- | ---------- | -------------  | -----------   |\n",
    "|     |    |.     |.     |"
   ]
  },
  {
   "cell_type": "code",
   "execution_count": 20,
   "metadata": {},
   "outputs": [
    {
     "data": {
      "text/html": [
       "<div>\n",
       "<style scoped>\n",
       "    .dataframe tbody tr th:only-of-type {\n",
       "        vertical-align: middle;\n",
       "    }\n",
       "\n",
       "    .dataframe tbody tr th {\n",
       "        vertical-align: top;\n",
       "    }\n",
       "\n",
       "    .dataframe thead th {\n",
       "        text-align: right;\n",
       "    }\n",
       "</style>\n",
       "<table border=\"1\" class=\"dataframe\">\n",
       "  <thead>\n",
       "    <tr style=\"text-align: right;\">\n",
       "      <th></th>\n",
       "      <th>Model</th>\n",
       "      <th>Train Time</th>\n",
       "      <th>Train Accuracy</th>\n",
       "      <th>Test Accuracy</th>\n",
       "      <th>F1 Score</th>\n",
       "    </tr>\n",
       "  </thead>\n",
       "  <tbody>\n",
       "    <tr>\n",
       "      <th>0</th>\n",
       "      <td>LogisticRegression</td>\n",
       "      <td>0.715013</td>\n",
       "      <td>0.900426</td>\n",
       "      <td>0.900732</td>\n",
       "      <td>0.527083</td>\n",
       "    </tr>\n",
       "    <tr>\n",
       "      <th>1</th>\n",
       "      <td>KNN</td>\n",
       "      <td>0.100048</td>\n",
       "      <td>0.922215</td>\n",
       "      <td>0.887176</td>\n",
       "      <td>0.486056</td>\n",
       "    </tr>\n",
       "    <tr>\n",
       "      <th>2</th>\n",
       "      <td>DecisionTree</td>\n",
       "      <td>0.293789</td>\n",
       "      <td>1.000000</td>\n",
       "      <td>0.876572</td>\n",
       "      <td>0.520594</td>\n",
       "    </tr>\n",
       "    <tr>\n",
       "      <th>3</th>\n",
       "      <td>SVC</td>\n",
       "      <td>8.881908</td>\n",
       "      <td>0.916358</td>\n",
       "      <td>0.900077</td>\n",
       "      <td>0.511752</td>\n",
       "    </tr>\n",
       "  </tbody>\n",
       "</table>\n",
       "</div>"
      ],
      "text/plain": [
       "                Model  Train Time  Train Accuracy  Test Accuracy  F1 Score\n",
       "0  LogisticRegression    0.715013        0.900426       0.900732  0.527083\n",
       "1                 KNN    0.100048        0.922215       0.887176  0.486056\n",
       "2        DecisionTree    0.293789        1.000000       0.876572  0.520594\n",
       "3                 SVC    8.881908        0.916358       0.900077  0.511752"
      ]
     },
     "execution_count": 20,
     "metadata": {},
     "output_type": "execute_result"
    }
   ],
   "source": [
    "dfmc = pd.DataFrame({\n",
    "    'Model': models,\n",
    "    'Train Time': train_time,\n",
    "    'Train Accuracy': train_scores,\n",
    "    'Test Accuracy': test_scores,\n",
    "    'F1 Score': f1_scores\n",
    "})\n",
    "dfmc"
   ]
  },
  {
   "cell_type": "code",
   "execution_count": null,
   "metadata": {},
   "outputs": [],
   "source": []
  },
  {
   "cell_type": "markdown",
   "metadata": {},
   "source": [
    "### Problem 11: Improving the Model\n",
    "\n",
    "Now that we have some basic models on the board, we want to try to improve these.  Below, we list a few things to explore in this pursuit.\n",
    "\n",
    "- More feature engineering and exploration.  For example, should we keep the gender feature?  Why or why not?\n",
    "- Hyperparameter tuning and grid search.  All of our models have additional hyperparameters to tune and explore.  For example the number of neighbors in KNN or the maximum depth of a Decision Tree.  \n",
    "- Adjust your performance metric"
   ]
  },
  {
   "cell_type": "code",
   "execution_count": 21,
   "metadata": {},
   "outputs": [
    {
     "data": {
      "text/plain": [
       "emp.var.rate      0.330443\n",
       "duration          0.203923\n",
       "pdays             0.055608\n",
       "cons.price.idx    0.032624\n",
       "month             0.030574\n",
       "contact           0.014316\n",
       "poutcome          0.008301\n",
       "job               0.004937\n",
       "campaign          0.002323\n",
       "cons.conf.idx     0.000724\n",
       "day_of_week       0.000561\n",
       "marital           0.000496\n",
       "default           0.000000\n",
       "loan             -0.000055\n",
       "housing          -0.000676\n",
       "education        -0.001530\n",
       "age              -0.002297\n",
       "previous         -0.002926\n",
       "euribor3m        -0.041612\n",
       "nr.employed      -0.044792\n",
       "dtype: float64"
      ]
     },
     "execution_count": 21,
     "metadata": {},
     "output_type": "execute_result"
    }
   ],
   "source": [
    "# run permutation importance data analysis\n",
    "from sklearn.inspection import permutation_importance\n",
    "\n",
    "result = permutation_importance(pipe_lgr, X_test, y_test, scoring='f1')\n",
    "pis = pd.Series(result.importances_mean, index=X.columns)\n",
    "pis.sort_values(ascending=False)"
   ]
  },
  {
   "cell_type": "code",
   "execution_count": 22,
   "metadata": {},
   "outputs": [
    {
     "name": "stdout",
     "output_type": "stream",
     "text": [
      "(21341, 18) (9147, 18)\n",
      "ColumnTransformer(remainder=StandardScaler(),\n",
      "                  transformers=[('onehotencoder',\n",
      "                                 OneHotEncoder(drop='if_binary'),\n",
      "                                 ['job', 'marital', 'contact', 'housing',\n",
      "                                  'loan', 'month', 'day_of_week',\n",
      "                                  'poutcome'])])\n"
     ]
    }
   ],
   "source": [
    "# filter out default and education features because they are not important based on the permutation importance result\n",
    "X = dfX.drop(columns=['default','education','y'])\n",
    "y = dfX['y'].map({'no':0, 'yes':1})\n",
    "X_train, X_test, y_train, y_test = train_test_split(X, y, random_state=42, test_size=0.3)\n",
    "print(X_train.shape, X_test.shape)\n",
    "ctxfmr = make_column_transformer(\n",
    "    (OneHotEncoder(drop='if_binary'), ['job','marital','contact','housing','loan','month','day_of_week','poutcome']), \n",
    "    remainder=StandardScaler())\n",
    "print(ctxfmr)"
   ]
  },
  {
   "cell_type": "code",
   "execution_count": 23,
   "metadata": {},
   "outputs": [
    {
     "name": "stdout",
     "output_type": "stream",
     "text": [
      "LogisticRegression\n",
      "        F1 score\n",
      "Weight          \n",
      "1       0.530633\n",
      "2       0.625684\n",
      "3       0.628335\n",
      "4       0.628926\n",
      "5       0.618229\n",
      "6       0.610837\n",
      "7       0.602845\n",
      "8       0.596370\n",
      "9       0.591597\n",
      "10      0.586557\n",
      "The F1 score is highest when the weight is 3 (or 4)\n"
     ]
    },
    {
     "data": {
      "text/plain": [
       "Text(0.5, 1.0, 'LogisticRegression Hyperparameter class weigh vs F1 score')"
      ]
     },
     "execution_count": 23,
     "metadata": {},
     "output_type": "execute_result"
    },
    {
     "data": {
      "image/png": "[encoded data removed]",
      "text/plain": [
       "<Figure size 640x480 with 1 Axes>"
      ]
     },
     "metadata": {},
     "output_type": "display_data"
    }
   ],
   "source": [
    "#tune class_weight because the dataset is imbalanced\n",
    "weights = range(1, 11, 1)\n",
    "f1_values = []\n",
    "print('LogisticRegression')\n",
    "for w in weights:\n",
    "    #print('weight', w)\n",
    "    pipe_lgr = Pipeline([\n",
    "        ('txfmr', ctxfmr),\n",
    "        ('lgr', LogisticRegression(class_weight={0:1, 1:w}, max_iter=500, random_state=0))])\n",
    "    pipe_lgr.fit(X_train, y_train)\n",
    "    f1_score = metrics.f1_score(y_test, pipe_lgr.predict(X_test))\n",
    "    f1_values.append(f1_score)\n",
    "dfw = pd.DataFrame({'Weight':weights, 'F1 score':f1_values})\n",
    "print(dfw.set_index('Weight'))\n",
    "print('The F1 score is highest when the weight is 3 (or 4)')\n",
    "sns.lineplot(dfw, x='Weight', y='F1 score')\n",
    "plt.title('LogisticRegression Hyperparameter class weigh vs F1 score')"
   ]
  },
  {
   "cell_type": "code",
   "execution_count": 24,
   "metadata": {},
   "outputs": [],
   "source": [
    "# Initialize the table \n",
    "train_bscores = []\n",
    "test_bscores = []\n",
    "f1_bscores = []"
   ]
  },
  {
   "cell_type": "code",
   "execution_count": 25,
   "metadata": {},
   "outputs": [
    {
     "name": "stdout",
     "output_type": "stream",
     "text": [
      "LogisticRegression\n",
      "{'lgr__C': 0.1, 'lgr__class_weight': {0: 1, 1: 3}}\n",
      "train accuracy = 0.90007652782333\n",
      "test accuracy = 0.8931890237236252\n",
      "f1 score = 0.6311815779539449\n"
     ]
    }
   ],
   "source": [
    "# LogisticRegression GridSearchCV \n",
    "params = {'lgr__C': [0.01, 0.1, 1, 10, 100],\n",
    "          'lgr__class_weight': ['balanced', {0:1, 1:3}, {0:1, 1:4}]}\n",
    "pipe_lgr = Pipeline([\n",
    "    ('txfmr', ctxfmr),\n",
    "    ('lgr', LogisticRegression(max_iter=500))])\n",
    "grid_lgr = GridSearchCV(estimator=pipe_lgr, scoring='f1', param_grid=params, cv=2)\n",
    "grid_lgr.fit(X_train, y_train)\n",
    "print('LogisticRegression')\n",
    "print(grid_lgr.best_params_)\n",
    "train_score = grid_lgr.best_estimator_.score(X_train, y_train)\n",
    "print('train accuracy =', test_score)\n",
    "test_score = grid_lgr.best_estimator_.score(X_test, y_test)\n",
    "print('test accuracy =', test_score)\n",
    "f1_score = metrics.f1_score(y_test, grid_lgr.best_estimator_.predict(X_test))\n",
    "print('f1 score =', f1_score)\n",
    "train_bscores.append(train_score)\n",
    "test_bscores.append(test_score)\n",
    "f1_bscores.append(f1_score)"
   ]
  },
  {
   "cell_type": "code",
   "execution_count": 26,
   "metadata": {},
   "outputs": [
    {
     "name": "stdout",
     "output_type": "stream",
     "text": [
      "KNN\n",
      "{'knn__n_neighbors': 7, 'knn__weights': 'distance'}\n",
      "train accuracy = 0.8931890237236252\n",
      "test accuracy = 0.8903465617142232\n",
      "f1 score = 0.5095354523227384\n"
     ]
    }
   ],
   "source": [
    "# KNearestNeighbors GridSearchCV \n",
    "params = {'knn__n_neighbors': [5, 6, 7, 8, 9, 10],\n",
    "          'knn__weights': ['uniform','distance']}\n",
    "pipe_knn = Pipeline([\n",
    "    ('txfmr', ctxfmr),\n",
    "    ('knn', KNeighborsClassifier())])\n",
    "grid_knn = GridSearchCV(estimator=pipe_knn, scoring='f1', param_grid=params, cv=2)\n",
    "grid_knn.fit(X_train, y_train)\n",
    "print('KNN')\n",
    "print(grid_knn.best_params_)\n",
    "train_score = grid_knn.best_estimator_.score(X_train, y_train)\n",
    "print('train accuracy =', test_score)\n",
    "test_score = grid_knn.best_estimator_.score(X_test, y_test)\n",
    "print('test accuracy =', test_score)\n",
    "f1_score = metrics.f1_score(y_test, grid_knn.best_estimator_.predict(X_test))\n",
    "print('f1 score =', f1_score)\n",
    "train_bscores.append(train_score)\n",
    "test_bscores.append(test_score)\n",
    "f1_bscores.append(f1_score)"
   ]
  },
  {
   "cell_type": "code",
   "execution_count": 27,
   "metadata": {},
   "outputs": [
    {
     "name": "stdout",
     "output_type": "stream",
     "text": [
      "DecisionTree\n",
      "{'dtr__class_weight': {0: 1, 1: 3}, 'dtr__criterion': 'entropy', 'dtr__max_depth': 5}\n",
      "train accuracy = 0.8903465617142232\n",
      "test accuracy = 0.8857548923144201\n",
      "f1 score = 0.6352530541012216\n"
     ]
    }
   ],
   "source": [
    "# DecisionTree GridSearchCV \n",
    "params = {'dtr__criterion': ['gini', 'entropy'],\n",
    "          'dtr__max_depth': [5, 6, 7, 8],\n",
    "          'dtr__class_weight': ['balanced', {0:1, 1:3}, {0:1, 1:4}]}\n",
    "pipe_dtr = Pipeline([\n",
    "    ('txfmr', ctxfmr),\n",
    "    ('dtr', DecisionTreeClassifier())])\n",
    "grid_dtr = GridSearchCV(estimator=pipe_dtr, scoring='f1', param_grid=params, cv=2)\n",
    "grid_dtr.fit(X_train, y_train)\n",
    "print('DecisionTree')\n",
    "print(grid_dtr.best_params_)\n",
    "train_score = grid_dtr.best_estimator_.score(X_train, y_train)\n",
    "print('train accuracy =', test_score)\n",
    "test_score = grid_dtr.best_estimator_.score(X_test, y_test)\n",
    "print('test accuracy =', test_score)\n",
    "f1_score = metrics.f1_score(y_test, grid_dtr.best_estimator_.predict(X_test))\n",
    "print('f1 score =', f1_score)\n",
    "train_bscores.append(train_score)\n",
    "test_bscores.append(test_score)\n",
    "f1_bscores.append(f1_score)"
   ]
  },
  {
   "cell_type": "code",
   "execution_count": 28,
   "metadata": {},
   "outputs": [
    {
     "name": "stdout",
     "output_type": "stream",
     "text": [
      "SVC\n",
      "{'svc__class_weight': {0: 1, 1: 3}, 'svc__gamma': 'auto', 'svc__kernel': 'rbf'}\n",
      "train accuracy = 0.8857548923144201\n",
      "test accuracy = 0.884224335847819\n",
      "f1 score = 0.6391822827938671\n"
     ]
    }
   ],
   "source": [
    "# SupportVectorMachine GridSearchCV \n",
    "params = {'svc__kernel': ['rbf', 'poly'],\n",
    "          'svc__gamma': ['auto', 'scale'],\n",
    "          'svc__class_weight': ['balanced', {0:1, 1:3}, {0:1, 1:4}]}\n",
    "pipe_svc = Pipeline([\n",
    "    ('txfmr', ctxfmr),\n",
    "    ('svc', SVC())])\n",
    "grid_svc = GridSearchCV(estimator=pipe_svc, scoring='f1', param_grid=params, cv=2)\n",
    "grid_svc.fit(X_train, y_train)\n",
    "print('SVC')\n",
    "print(grid_svc.best_params_)\n",
    "train_score = grid_svc.best_estimator_.score(X_train, y_train)\n",
    "print('train accuracy =', test_score)\n",
    "test_score = grid_svc.best_estimator_.score(X_test, y_test)\n",
    "print('test accuracy =', test_score)\n",
    "f1_score = metrics.f1_score(y_test, grid_svc.best_estimator_.predict(X_test))\n",
    "print('f1 score =', f1_score)\n",
    "train_bscores.append(train_score)\n",
    "test_bscores.append(test_score)\n",
    "f1_bscores.append(f1_score)"
   ]
  },
  {
   "cell_type": "markdown",
   "metadata": {},
   "source": [
    "### Data Visualization"
   ]
  },
  {
   "cell_type": "code",
   "execution_count": 29,
   "metadata": {},
   "outputs": [
    {
     "data": {
      "text/plain": [
       "Text(0.5, 1.0, 'SVC(kernel=\"rbf\") classifier decision boundary plot')"
      ]
     },
     "execution_count": 29,
     "metadata": {},
     "output_type": "execute_result"
    },
    {
     "data": {
      "image/png": "[encoded data removed]",
      "text/plain": [
       "<Figure size 640x480 with 1 Axes>"
      ]
     },
     "metadata": {},
     "output_type": "display_data"
    }
   ],
   "source": [
    "# show the SVC model decision boundary\n",
    "from sklearn.inspection import DecisionBoundaryDisplay\n",
    "\n",
    "pca = PCA(n_components=2)\n",
    "pca.fit(ctxfmr.fit_transform(X_test))\n",
    "dd = pca.fit_transform(ctxfmr.fit_transform(X_test))\n",
    "#print(dd)\n",
    "dfpca = pd.DataFrame({'PCA1':dd[:,0], 'PCA2':dd[:,1]})\n",
    "mod_svc = SVC(kernel='rbf', gamma='auto', class_weight={0:1, 1:3}).fit(dfpca, y_test)\n",
    "\n",
    "DecisionBoundaryDisplay.from_estimator(\n",
    "    estimator=mod_svc, X=dfpca)\n",
    "dfy = pd.DataFrame({'class':y_test})\n",
    "sns.scatterplot(dfpca, x=dd[:,0], y=dd[:,1], hue=dfy['class'])\n",
    "plt.title('SVC(kernel=\"rbf\") classifier decision boundary plot')"
   ]
  },
  {
   "cell_type": "code",
   "execution_count": 30,
   "metadata": {},
   "outputs": [
    {
     "data": {
      "text/html": [
       "<div>\n",
       "<style scoped>\n",
       "    .dataframe tbody tr th:only-of-type {\n",
       "        vertical-align: middle;\n",
       "    }\n",
       "\n",
       "    .dataframe tbody tr th {\n",
       "        vertical-align: top;\n",
       "    }\n",
       "\n",
       "    .dataframe thead th {\n",
       "        text-align: right;\n",
       "    }\n",
       "</style>\n",
       "<table border=\"1\" class=\"dataframe\">\n",
       "  <thead>\n",
       "    <tr style=\"text-align: right;\">\n",
       "      <th></th>\n",
       "      <th>Model</th>\n",
       "      <th>Train Accuracy</th>\n",
       "      <th>Test Accuracy</th>\n",
       "      <th>F1 Score</th>\n",
       "    </tr>\n",
       "  </thead>\n",
       "  <tbody>\n",
       "    <tr>\n",
       "      <th>0</th>\n",
       "      <td>LogisticRegression</td>\n",
       "      <td>0.894241</td>\n",
       "      <td>0.893189</td>\n",
       "      <td>0.631182</td>\n",
       "    </tr>\n",
       "    <tr>\n",
       "      <th>1</th>\n",
       "      <td>KNN</td>\n",
       "      <td>1.000000</td>\n",
       "      <td>0.890347</td>\n",
       "      <td>0.509535</td>\n",
       "    </tr>\n",
       "    <tr>\n",
       "      <th>2</th>\n",
       "      <td>DecisionTree</td>\n",
       "      <td>0.888712</td>\n",
       "      <td>0.885755</td>\n",
       "      <td>0.635253</td>\n",
       "    </tr>\n",
       "    <tr>\n",
       "      <th>3</th>\n",
       "      <td>SVC</td>\n",
       "      <td>0.887119</td>\n",
       "      <td>0.884224</td>\n",
       "      <td>0.639182</td>\n",
       "    </tr>\n",
       "  </tbody>\n",
       "</table>\n",
       "</div>"
      ],
      "text/plain": [
       "                Model  Train Accuracy  Test Accuracy  F1 Score\n",
       "0  LogisticRegression        0.894241       0.893189  0.631182\n",
       "1                 KNN        1.000000       0.890347  0.509535\n",
       "2        DecisionTree        0.888712       0.885755  0.635253\n",
       "3                 SVC        0.887119       0.884224  0.639182"
      ]
     },
     "execution_count": 30,
     "metadata": {},
     "output_type": "execute_result"
    }
   ],
   "source": [
    "# Display the result table after feature engineering and hyperparameters tuning\n",
    "dfmb = pd.DataFrame({\n",
    "    'Model': models,\n",
    "    'Train Accuracy': train_bscores,\n",
    "    'Test Accuracy': test_bscores,\n",
    "    'F1 Score': f1_bscores\n",
    "})\n",
    "dfmb"
   ]
  },
  {
   "cell_type": "markdown",
   "metadata": {},
   "source": [
    "From the table, SVC is the best model optimized for F1 scores. The top three important features are 'cons.price.idx', 'duration' and 'nr.employed'. That means the monthly consumer price index, previous phone call duration and quarterly employed index are positively correlated to the bank marketing campaign accuracy."
   ]
  },
  {
   "cell_type": "markdown",
   "metadata": {},
   "source": [
    "### Summary"
   ]
  },
  {
   "cell_type": "markdown",
   "metadata": {},
   "source": [
    "We analyzed a Portuguese bank marketing campaign by using supervised machine learning techniques. It is a binary classification problem and its dataset is highly imbalanced. I built and compared four classifier models: LogisticRegression, KNearestNeighbors, DecisionTree and SupportVectorMachine. At the very beginning LogisticRegression is the best model (F1 score = 52.7%) without tuning. After feature engineering and hyperparameters tuning, SupportVerctorMachine is the best model (F1 score = 63.9%) with nonlinear kernel 'rbs'. \n",
    "\n",
    "SupportVectorMachine is the best classifier among all because it achieves highest scoring with non-linear kernels. However, it uses a lot of CPU power and can be very slow when the dataset is very large. We can speed up the traing time by using powerful GPU or applying PCA dimension reduction techniques."
   ]
  },
  {
   "cell_type": "code",
   "execution_count": null,
   "metadata": {},
   "outputs": [],
   "source": []
  }
 ],
 "metadata": {
  "kernelspec": {
   "display_name": "Python 3 (ipykernel)",
   "language": "python",
   "name": "python3"
  },
  "language_info": {
   "codemirror_mode": {
    "name": "ipython",
    "version": 3
   },
   "file_extension": ".py",
   "mimetype": "text/x-python",
   "name": "python",
   "nbconvert_exporter": "python",
   "pygments_lexer": "ipython3",
   "version": "3.11.7"
  },
  "widgets": {
   "application/vnd.jupyter.widget-state+json": {
    "state": {},
    "version_major": 2,
    "version_minor": 0
   }
  }
 },
 "nbformat": 4,
 "nbformat_minor": 4
}
